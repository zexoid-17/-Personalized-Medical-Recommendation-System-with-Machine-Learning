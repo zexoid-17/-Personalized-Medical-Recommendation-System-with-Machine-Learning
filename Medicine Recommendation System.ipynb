{
 "cells": [
  {
   "cell_type": "code",
   "execution_count": 1,
   "id": "a72009cc-893d-446c-bd8b-76e8c9b68ec5",
   "metadata": {},
   "outputs": [],
   "source": [
    "import pandas as pd\n",
    "import numpy as np\n",
    "from sklearn.model_selection import train_test_split\n",
    "from sklearn.preprocessing import LabelEncoder\n",
    "from sklearn.svm import SVC\n",
    "from sklearn.metrics import accuracy_score\n",
    "import pickle\n",
    "\n",
    "# Load necessary datasets\n",
    "description = pd.read_csv(\"C:\\\\Users\\\\DELLL\\\\Desktop\\\\JUPYTER\\\\medicines\\\\description.csv\")\n",
    "precautions = pd.read_csv(\"C:\\\\Users\\\\DELLL\\\\Desktop\\\\JUPYTER\\\\medicines\\\\precautions_df.csv\")\n",
    "medications = pd.read_csv(\"C:\\\\Users\\\\DELLL\\\\Desktop\\\\JUPYTER\\\\medicines\\\\medications.csv\")\n",
    "diets = pd.read_csv(\"C:\\\\Users\\\\DELLL\\\\Desktop\\\\JUPYTER\\\\medicines\\\\diets.csv\")\n",
    "workout = pd.read_csv(\"C:\\\\Users\\\\DELLL\\\\Desktop\\\\JUPYTER\\\\medicines\\\\workout_df.csv\")\n",
    "\n",
    "# Load the training dataset\n",
    "dataset = pd.read_csv(\"C:\\\\Users\\\\DELLL\\\\Desktop\\\\JUPYTER\\\\Training.csv\")\n",
    "X = dataset.drop('prognosis', axis=1)\n",
    "y = dataset['prognosis']\n"
   ]
  },
  {
   "cell_type": "code",
   "execution_count": 3,
   "id": "dcbd2eee-e92f-4afa-9fa8-b74022e1ee1a",
   "metadata": {},
   "outputs": [
    {
     "ename": "SyntaxError",
     "evalue": "invalid syntax (1951995059.py, line 1)",
     "output_type": "error",
     "traceback": [
      "\u001b[1;36m  Cell \u001b[1;32mIn[3], line 1\u001b[1;36m\u001b[0m\n\u001b[1;33m    df[]\u001b[0m\n\u001b[1;37m       ^\u001b[0m\n\u001b[1;31mSyntaxError\u001b[0m\u001b[1;31m:\u001b[0m invalid syntax\n"
     ]
    }
   ],
   "source": [
    "df[]"
   ]
  },
  {
   "cell_type": "code",
   "execution_count": 4,
   "id": "8da596da-e721-4caf-b18e-239606046424",
   "metadata": {},
   "outputs": [
    {
     "name": "stdout",
     "output_type": "stream",
     "text": [
      "Requirement already satisfied: jupyter_contrib_nbextensions in c:\\users\\delll\\anaconda3\\lib\\site-packages (0.7.0)\n",
      "Requirement already satisfied: ipython-genutils in c:\\users\\delll\\anaconda3\\lib\\site-packages (from jupyter_contrib_nbextensions) (0.2.0)\n",
      "Requirement already satisfied: jupyter-contrib-core>=0.3.3 in c:\\users\\delll\\anaconda3\\lib\\site-packages (from jupyter_contrib_nbextensions) (0.4.2)\n",
      "Requirement already satisfied: jupyter-core in c:\\users\\delll\\anaconda3\\lib\\site-packages (from jupyter_contrib_nbextensions) (5.5.0)\n",
      "Requirement already satisfied: jupyter-highlight-selected-word>=0.1.1 in c:\\users\\delll\\anaconda3\\lib\\site-packages (from jupyter_contrib_nbextensions) (0.2.0)\n",
      "Requirement already satisfied: jupyter-nbextensions-configurator>=0.4.0 in c:\\users\\delll\\anaconda3\\lib\\site-packages (from jupyter_contrib_nbextensions) (0.6.4)\n",
      "Requirement already satisfied: nbconvert>=6.0 in c:\\users\\delll\\anaconda3\\lib\\site-packages (from jupyter_contrib_nbextensions) (7.10.0)\n",
      "Requirement already satisfied: notebook>=6.0 in c:\\users\\delll\\anaconda3\\lib\\site-packages (from jupyter_contrib_nbextensions) (7.0.8)\n",
      "Requirement already satisfied: tornado in c:\\users\\delll\\anaconda3\\lib\\site-packages (from jupyter_contrib_nbextensions) (6.3.3)\n",
      "Requirement already satisfied: traitlets>=4.1 in c:\\users\\delll\\anaconda3\\lib\\site-packages (from jupyter_contrib_nbextensions) (5.7.1)\n",
      "Requirement already satisfied: lxml in c:\\users\\delll\\anaconda3\\lib\\site-packages (from jupyter_contrib_nbextensions) (4.9.3)\n",
      "Requirement already satisfied: setuptools in c:\\users\\delll\\anaconda3\\lib\\site-packages (from jupyter-contrib-core>=0.3.3->jupyter_contrib_nbextensions) (68.2.2)\n",
      "Requirement already satisfied: jupyter-server in c:\\users\\delll\\anaconda3\\lib\\site-packages (from jupyter-nbextensions-configurator>=0.4.0->jupyter_contrib_nbextensions) (2.10.0)\n",
      "Requirement already satisfied: pyyaml in c:\\users\\delll\\anaconda3\\lib\\site-packages (from jupyter-nbextensions-configurator>=0.4.0->jupyter_contrib_nbextensions) (6.0.1)\n",
      "Requirement already satisfied: beautifulsoup4 in c:\\users\\delll\\anaconda3\\lib\\site-packages (from nbconvert>=6.0->jupyter_contrib_nbextensions) (4.12.2)\n",
      "Requirement already satisfied: bleach!=5.0.0 in c:\\users\\delll\\anaconda3\\lib\\site-packages (from nbconvert>=6.0->jupyter_contrib_nbextensions) (4.1.0)\n",
      "Requirement already satisfied: defusedxml in c:\\users\\delll\\anaconda3\\lib\\site-packages (from nbconvert>=6.0->jupyter_contrib_nbextensions) (0.7.1)\n",
      "Requirement already satisfied: jinja2>=3.0 in c:\\users\\delll\\anaconda3\\lib\\site-packages (from nbconvert>=6.0->jupyter_contrib_nbextensions) (3.1.3)\n",
      "Requirement already satisfied: jupyterlab-pygments in c:\\users\\delll\\anaconda3\\lib\\site-packages (from nbconvert>=6.0->jupyter_contrib_nbextensions) (0.1.2)\n",
      "Requirement already satisfied: markupsafe>=2.0 in c:\\users\\delll\\anaconda3\\lib\\site-packages (from nbconvert>=6.0->jupyter_contrib_nbextensions) (2.1.3)\n",
      "Requirement already satisfied: mistune<4,>=2.0.3 in c:\\users\\delll\\anaconda3\\lib\\site-packages (from nbconvert>=6.0->jupyter_contrib_nbextensions) (2.0.4)\n",
      "Requirement already satisfied: nbclient>=0.5.0 in c:\\users\\delll\\anaconda3\\lib\\site-packages (from nbconvert>=6.0->jupyter_contrib_nbextensions) (0.8.0)\n",
      "Requirement already satisfied: nbformat>=5.7 in c:\\users\\delll\\anaconda3\\lib\\site-packages (from nbconvert>=6.0->jupyter_contrib_nbextensions) (5.9.2)\n",
      "Requirement already satisfied: packaging in c:\\users\\delll\\anaconda3\\lib\\site-packages (from nbconvert>=6.0->jupyter_contrib_nbextensions) (23.1)\n",
      "Requirement already satisfied: pandocfilters>=1.4.1 in c:\\users\\delll\\anaconda3\\lib\\site-packages (from nbconvert>=6.0->jupyter_contrib_nbextensions) (1.5.0)\n",
      "Requirement already satisfied: pygments>=2.4.1 in c:\\users\\delll\\anaconda3\\lib\\site-packages (from nbconvert>=6.0->jupyter_contrib_nbextensions) (2.15.1)\n",
      "Requirement already satisfied: tinycss2 in c:\\users\\delll\\anaconda3\\lib\\site-packages (from nbconvert>=6.0->jupyter_contrib_nbextensions) (1.2.1)\n",
      "Requirement already satisfied: platformdirs>=2.5 in c:\\users\\delll\\anaconda3\\lib\\site-packages (from jupyter-core->jupyter_contrib_nbextensions) (3.10.0)\n",
      "Requirement already satisfied: pywin32>=300 in c:\\users\\delll\\anaconda3\\lib\\site-packages (from jupyter-core->jupyter_contrib_nbextensions) (305.1)\n",
      "Requirement already satisfied: jupyterlab-server<3,>=2.22.1 in c:\\users\\delll\\anaconda3\\lib\\site-packages (from notebook>=6.0->jupyter_contrib_nbextensions) (2.25.1)\n",
      "Requirement already satisfied: jupyterlab<4.1,>=4.0.2 in c:\\users\\delll\\anaconda3\\lib\\site-packages (from notebook>=6.0->jupyter_contrib_nbextensions) (4.0.11)\n",
      "Requirement already satisfied: notebook-shim<0.3,>=0.2 in c:\\users\\delll\\anaconda3\\lib\\site-packages (from notebook>=6.0->jupyter_contrib_nbextensions) (0.2.3)\n",
      "Requirement already satisfied: six>=1.9.0 in c:\\users\\delll\\anaconda3\\lib\\site-packages (from bleach!=5.0.0->nbconvert>=6.0->jupyter_contrib_nbextensions) (1.16.0)\n",
      "Requirement already satisfied: webencodings in c:\\users\\delll\\anaconda3\\lib\\site-packages (from bleach!=5.0.0->nbconvert>=6.0->jupyter_contrib_nbextensions) (0.5.1)\n",
      "Requirement already satisfied: anyio>=3.1.0 in c:\\users\\delll\\anaconda3\\lib\\site-packages (from jupyter-server->jupyter-nbextensions-configurator>=0.4.0->jupyter_contrib_nbextensions) (4.2.0)\n",
      "Requirement already satisfied: argon2-cffi in c:\\users\\delll\\anaconda3\\lib\\site-packages (from jupyter-server->jupyter-nbextensions-configurator>=0.4.0->jupyter_contrib_nbextensions) (21.3.0)\n",
      "Requirement already satisfied: jupyter-client>=7.4.4 in c:\\users\\delll\\anaconda3\\lib\\site-packages (from jupyter-server->jupyter-nbextensions-configurator>=0.4.0->jupyter_contrib_nbextensions) (8.6.0)\n",
      "Requirement already satisfied: jupyter-events>=0.6.0 in c:\\users\\delll\\anaconda3\\lib\\site-packages (from jupyter-server->jupyter-nbextensions-configurator>=0.4.0->jupyter_contrib_nbextensions) (0.8.0)\n",
      "Requirement already satisfied: jupyter-server-terminals in c:\\users\\delll\\anaconda3\\lib\\site-packages (from jupyter-server->jupyter-nbextensions-configurator>=0.4.0->jupyter_contrib_nbextensions) (0.4.4)\n",
      "Requirement already satisfied: overrides in c:\\users\\delll\\anaconda3\\lib\\site-packages (from jupyter-server->jupyter-nbextensions-configurator>=0.4.0->jupyter_contrib_nbextensions) (7.4.0)\n",
      "Requirement already satisfied: prometheus-client in c:\\users\\delll\\anaconda3\\lib\\site-packages (from jupyter-server->jupyter-nbextensions-configurator>=0.4.0->jupyter_contrib_nbextensions) (0.14.1)\n",
      "Requirement already satisfied: pywinpty in c:\\users\\delll\\anaconda3\\lib\\site-packages (from jupyter-server->jupyter-nbextensions-configurator>=0.4.0->jupyter_contrib_nbextensions) (2.0.10)\n",
      "Requirement already satisfied: pyzmq>=24 in c:\\users\\delll\\anaconda3\\lib\\site-packages (from jupyter-server->jupyter-nbextensions-configurator>=0.4.0->jupyter_contrib_nbextensions) (25.1.2)\n",
      "Requirement already satisfied: send2trash>=1.8.2 in c:\\users\\delll\\anaconda3\\lib\\site-packages (from jupyter-server->jupyter-nbextensions-configurator>=0.4.0->jupyter_contrib_nbextensions) (1.8.2)\n",
      "Requirement already satisfied: terminado>=0.8.3 in c:\\users\\delll\\anaconda3\\lib\\site-packages (from jupyter-server->jupyter-nbextensions-configurator>=0.4.0->jupyter_contrib_nbextensions) (0.17.1)\n",
      "Requirement already satisfied: websocket-client in c:\\users\\delll\\anaconda3\\lib\\site-packages (from jupyter-server->jupyter-nbextensions-configurator>=0.4.0->jupyter_contrib_nbextensions) (0.58.0)\n",
      "Requirement already satisfied: async-lru>=1.0.0 in c:\\users\\delll\\anaconda3\\lib\\site-packages (from jupyterlab<4.1,>=4.0.2->notebook>=6.0->jupyter_contrib_nbextensions) (2.0.4)\n",
      "Requirement already satisfied: ipykernel in c:\\users\\delll\\anaconda3\\lib\\site-packages (from jupyterlab<4.1,>=4.0.2->notebook>=6.0->jupyter_contrib_nbextensions) (6.28.0)\n",
      "Requirement already satisfied: jupyter-lsp>=2.0.0 in c:\\users\\delll\\anaconda3\\lib\\site-packages (from jupyterlab<4.1,>=4.0.2->notebook>=6.0->jupyter_contrib_nbextensions) (2.2.0)\n",
      "Requirement already satisfied: babel>=2.10 in c:\\users\\delll\\anaconda3\\lib\\site-packages (from jupyterlab-server<3,>=2.22.1->notebook>=6.0->jupyter_contrib_nbextensions) (2.11.0)\n",
      "Requirement already satisfied: json5>=0.9.0 in c:\\users\\delll\\anaconda3\\lib\\site-packages (from jupyterlab-server<3,>=2.22.1->notebook>=6.0->jupyter_contrib_nbextensions) (0.9.6)\n",
      "Requirement already satisfied: jsonschema>=4.18.0 in c:\\users\\delll\\anaconda3\\lib\\site-packages (from jupyterlab-server<3,>=2.22.1->notebook>=6.0->jupyter_contrib_nbextensions) (4.19.2)\n",
      "Requirement already satisfied: requests>=2.31 in c:\\users\\delll\\anaconda3\\lib\\site-packages (from jupyterlab-server<3,>=2.22.1->notebook>=6.0->jupyter_contrib_nbextensions) (2.31.0)\n",
      "Requirement already satisfied: fastjsonschema in c:\\users\\delll\\anaconda3\\lib\\site-packages (from nbformat>=5.7->nbconvert>=6.0->jupyter_contrib_nbextensions) (2.16.2)\n",
      "Requirement already satisfied: soupsieve>1.2 in c:\\users\\delll\\anaconda3\\lib\\site-packages (from beautifulsoup4->nbconvert>=6.0->jupyter_contrib_nbextensions) (2.5)\n",
      "Requirement already satisfied: idna>=2.8 in c:\\users\\delll\\anaconda3\\lib\\site-packages (from anyio>=3.1.0->jupyter-server->jupyter-nbextensions-configurator>=0.4.0->jupyter_contrib_nbextensions) (3.4)\n",
      "Requirement already satisfied: sniffio>=1.1 in c:\\users\\delll\\anaconda3\\lib\\site-packages (from anyio>=3.1.0->jupyter-server->jupyter-nbextensions-configurator>=0.4.0->jupyter_contrib_nbextensions) (1.3.0)\n",
      "Requirement already satisfied: pytz>=2015.7 in c:\\users\\delll\\anaconda3\\lib\\site-packages (from babel>=2.10->jupyterlab-server<3,>=2.22.1->notebook>=6.0->jupyter_contrib_nbextensions) (2023.3.post1)\n",
      "Requirement already satisfied: attrs>=22.2.0 in c:\\users\\delll\\anaconda3\\lib\\site-packages (from jsonschema>=4.18.0->jupyterlab-server<3,>=2.22.1->notebook>=6.0->jupyter_contrib_nbextensions) (23.1.0)\n",
      "Requirement already satisfied: jsonschema-specifications>=2023.03.6 in c:\\users\\delll\\anaconda3\\lib\\site-packages (from jsonschema>=4.18.0->jupyterlab-server<3,>=2.22.1->notebook>=6.0->jupyter_contrib_nbextensions) (2023.7.1)\n",
      "Requirement already satisfied: referencing>=0.28.4 in c:\\users\\delll\\anaconda3\\lib\\site-packages (from jsonschema>=4.18.0->jupyterlab-server<3,>=2.22.1->notebook>=6.0->jupyter_contrib_nbextensions) (0.30.2)\n",
      "Requirement already satisfied: rpds-py>=0.7.1 in c:\\users\\delll\\anaconda3\\lib\\site-packages (from jsonschema>=4.18.0->jupyterlab-server<3,>=2.22.1->notebook>=6.0->jupyter_contrib_nbextensions) (0.10.6)\n",
      "Requirement already satisfied: python-dateutil>=2.8.2 in c:\\users\\delll\\anaconda3\\lib\\site-packages (from jupyter-client>=7.4.4->jupyter-server->jupyter-nbextensions-configurator>=0.4.0->jupyter_contrib_nbextensions) (2.8.2)\n",
      "Requirement already satisfied: python-json-logger>=2.0.4 in c:\\users\\delll\\anaconda3\\lib\\site-packages (from jupyter-events>=0.6.0->jupyter-server->jupyter-nbextensions-configurator>=0.4.0->jupyter_contrib_nbextensions) (2.0.7)\n",
      "Requirement already satisfied: rfc3339-validator in c:\\users\\delll\\anaconda3\\lib\\site-packages (from jupyter-events>=0.6.0->jupyter-server->jupyter-nbextensions-configurator>=0.4.0->jupyter_contrib_nbextensions) (0.1.4)\n",
      "Requirement already satisfied: rfc3986-validator>=0.1.1 in c:\\users\\delll\\anaconda3\\lib\\site-packages (from jupyter-events>=0.6.0->jupyter-server->jupyter-nbextensions-configurator>=0.4.0->jupyter_contrib_nbextensions) (0.1.1)\n",
      "Requirement already satisfied: charset-normalizer<4,>=2 in c:\\users\\delll\\anaconda3\\lib\\site-packages (from requests>=2.31->jupyterlab-server<3,>=2.22.1->notebook>=6.0->jupyter_contrib_nbextensions) (2.0.4)\n",
      "Requirement already satisfied: urllib3<3,>=1.21.1 in c:\\users\\delll\\anaconda3\\lib\\site-packages (from requests>=2.31->jupyterlab-server<3,>=2.22.1->notebook>=6.0->jupyter_contrib_nbextensions) (2.0.7)\n",
      "Requirement already satisfied: certifi>=2017.4.17 in c:\\users\\delll\\anaconda3\\lib\\site-packages (from requests>=2.31->jupyterlab-server<3,>=2.22.1->notebook>=6.0->jupyter_contrib_nbextensions) (2024.7.4)\n",
      "Requirement already satisfied: argon2-cffi-bindings in c:\\users\\delll\\anaconda3\\lib\\site-packages (from argon2-cffi->jupyter-server->jupyter-nbextensions-configurator>=0.4.0->jupyter_contrib_nbextensions) (21.2.0)\n",
      "Requirement already satisfied: comm>=0.1.1 in c:\\users\\delll\\anaconda3\\lib\\site-packages (from ipykernel->jupyterlab<4.1,>=4.0.2->notebook>=6.0->jupyter_contrib_nbextensions) (0.1.2)\n",
      "Requirement already satisfied: debugpy>=1.6.5 in c:\\users\\delll\\anaconda3\\lib\\site-packages (from ipykernel->jupyterlab<4.1,>=4.0.2->notebook>=6.0->jupyter_contrib_nbextensions) (1.6.7)\n",
      "Requirement already satisfied: ipython>=7.23.1 in c:\\users\\delll\\anaconda3\\lib\\site-packages (from ipykernel->jupyterlab<4.1,>=4.0.2->notebook>=6.0->jupyter_contrib_nbextensions) (8.20.0)\n",
      "Requirement already satisfied: matplotlib-inline>=0.1 in c:\\users\\delll\\anaconda3\\lib\\site-packages (from ipykernel->jupyterlab<4.1,>=4.0.2->notebook>=6.0->jupyter_contrib_nbextensions) (0.1.6)\n",
      "Requirement already satisfied: nest-asyncio in c:\\users\\delll\\anaconda3\\lib\\site-packages (from ipykernel->jupyterlab<4.1,>=4.0.2->notebook>=6.0->jupyter_contrib_nbextensions) (1.6.0)\n",
      "Requirement already satisfied: psutil in c:\\users\\delll\\anaconda3\\lib\\site-packages (from ipykernel->jupyterlab<4.1,>=4.0.2->notebook>=6.0->jupyter_contrib_nbextensions) (5.9.0)\n",
      "Requirement already satisfied: decorator in c:\\users\\delll\\anaconda3\\lib\\site-packages (from ipython>=7.23.1->ipykernel->jupyterlab<4.1,>=4.0.2->notebook>=6.0->jupyter_contrib_nbextensions) (5.1.1)\n",
      "Requirement already satisfied: jedi>=0.16 in c:\\users\\delll\\anaconda3\\lib\\site-packages (from ipython>=7.23.1->ipykernel->jupyterlab<4.1,>=4.0.2->notebook>=6.0->jupyter_contrib_nbextensions) (0.18.1)\n",
      "Requirement already satisfied: prompt-toolkit<3.1.0,>=3.0.41 in c:\\users\\delll\\anaconda3\\lib\\site-packages (from ipython>=7.23.1->ipykernel->jupyterlab<4.1,>=4.0.2->notebook>=6.0->jupyter_contrib_nbextensions) (3.0.43)\n",
      "Requirement already satisfied: stack-data in c:\\users\\delll\\anaconda3\\lib\\site-packages (from ipython>=7.23.1->ipykernel->jupyterlab<4.1,>=4.0.2->notebook>=6.0->jupyter_contrib_nbextensions) (0.2.0)\n",
      "Requirement already satisfied: colorama in c:\\users\\delll\\anaconda3\\lib\\site-packages (from ipython>=7.23.1->ipykernel->jupyterlab<4.1,>=4.0.2->notebook>=6.0->jupyter_contrib_nbextensions) (0.4.6)\n",
      "Requirement already satisfied: fqdn in c:\\users\\delll\\anaconda3\\lib\\site-packages (from jsonschema[format-nongpl]>=4.18.0->jupyter-events>=0.6.0->jupyter-server->jupyter-nbextensions-configurator>=0.4.0->jupyter_contrib_nbextensions) (1.5.1)\n",
      "Requirement already satisfied: isoduration in c:\\users\\delll\\anaconda3\\lib\\site-packages (from jsonschema[format-nongpl]>=4.18.0->jupyter-events>=0.6.0->jupyter-server->jupyter-nbextensions-configurator>=0.4.0->jupyter_contrib_nbextensions) (20.11.0)\n",
      "Requirement already satisfied: jsonpointer>1.13 in c:\\users\\delll\\anaconda3\\lib\\site-packages (from jsonschema[format-nongpl]>=4.18.0->jupyter-events>=0.6.0->jupyter-server->jupyter-nbextensions-configurator>=0.4.0->jupyter_contrib_nbextensions) (2.1)\n",
      "Requirement already satisfied: uri-template in c:\\users\\delll\\anaconda3\\lib\\site-packages (from jsonschema[format-nongpl]>=4.18.0->jupyter-events>=0.6.0->jupyter-server->jupyter-nbextensions-configurator>=0.4.0->jupyter_contrib_nbextensions) (1.3.0)\n",
      "Requirement already satisfied: webcolors>=1.11 in c:\\users\\delll\\anaconda3\\lib\\site-packages (from jsonschema[format-nongpl]>=4.18.0->jupyter-events>=0.6.0->jupyter-server->jupyter-nbextensions-configurator>=0.4.0->jupyter_contrib_nbextensions) (24.6.0)\n",
      "Requirement already satisfied: cffi>=1.0.1 in c:\\users\\delll\\anaconda3\\lib\\site-packages (from argon2-cffi-bindings->argon2-cffi->jupyter-server->jupyter-nbextensions-configurator>=0.4.0->jupyter_contrib_nbextensions) (1.16.0)\n",
      "Requirement already satisfied: pycparser in c:\\users\\delll\\anaconda3\\lib\\site-packages (from cffi>=1.0.1->argon2-cffi-bindings->argon2-cffi->jupyter-server->jupyter-nbextensions-configurator>=0.4.0->jupyter_contrib_nbextensions) (2.21)\n",
      "Requirement already satisfied: parso<0.9.0,>=0.8.0 in c:\\users\\delll\\anaconda3\\lib\\site-packages (from jedi>=0.16->ipython>=7.23.1->ipykernel->jupyterlab<4.1,>=4.0.2->notebook>=6.0->jupyter_contrib_nbextensions) (0.8.3)\n",
      "Requirement already satisfied: wcwidth in c:\\users\\delll\\anaconda3\\lib\\site-packages (from prompt-toolkit<3.1.0,>=3.0.41->ipython>=7.23.1->ipykernel->jupyterlab<4.1,>=4.0.2->notebook>=6.0->jupyter_contrib_nbextensions) (0.2.5)\n",
      "Requirement already satisfied: arrow>=0.15.0 in c:\\users\\delll\\anaconda3\\lib\\site-packages (from isoduration->jsonschema[format-nongpl]>=4.18.0->jupyter-events>=0.6.0->jupyter-server->jupyter-nbextensions-configurator>=0.4.0->jupyter_contrib_nbextensions) (1.2.3)\n",
      "Requirement already satisfied: executing in c:\\users\\delll\\anaconda3\\lib\\site-packages (from stack-data->ipython>=7.23.1->ipykernel->jupyterlab<4.1,>=4.0.2->notebook>=6.0->jupyter_contrib_nbextensions) (0.8.3)\n",
      "Requirement already satisfied: asttokens in c:\\users\\delll\\anaconda3\\lib\\site-packages (from stack-data->ipython>=7.23.1->ipykernel->jupyterlab<4.1,>=4.0.2->notebook>=6.0->jupyter_contrib_nbextensions) (2.0.5)\n",
      "Requirement already satisfied: pure-eval in c:\\users\\delll\\anaconda3\\lib\\site-packages (from stack-data->ipython>=7.23.1->ipykernel->jupyterlab<4.1,>=4.0.2->notebook>=6.0->jupyter_contrib_nbextensions) (0.2.2)\n",
      "Note: you may need to restart the kernel to use updated packages.\n"
     ]
    }
   ],
   "source": [
    "pip install jupyter_contrib_nbextensions"
   ]
  },
  {
   "cell_type": "code",
   "execution_count": 8,
   "id": "d783133a-7bc6-45da-a559-cae6b0cb02af",
   "metadata": {},
   "outputs": [],
   "source": [
    "# Create symptoms dictionary\n",
    "symptoms_dict = {symptom: index for index, symptom in enumerate(X.columns)}\n",
    "\n",
    "# Create diseases list\n",
    "diseases_list = sorted(y.unique())\n"
   ]
  },
  {
   "cell_type": "code",
   "execution_count": 9,
   "id": "9f90d15a-e2a4-4435-90a1-6948cea51d20",
   "metadata": {},
   "outputs": [],
   "source": [
    "# Encode prognosis labels\n",
    "le = LabelEncoder()\n",
    "y_encoded = le.fit_transform(y)\n",
    "\n",
    "# Split the dataset\n",
    "X_train, X_test, y_train, y_test = train_test_split(X, y_encoded, test_size=0.3, random_state=20)\n"
   ]
  },
  {
   "cell_type": "code",
   "execution_count": 10,
   "id": "26955eb2-30a8-497b-82bc-67ae6e74488a",
   "metadata": {},
   "outputs": [
    {
     "name": "stdout",
     "output_type": "stream",
     "text": [
      "SVC Accuracy: 1.0\n"
     ]
    }
   ],
   "source": [
    "# Train the SVC model\n",
    "svc = SVC(kernel='linear')\n",
    "svc.fit(X_train, y_train)\n",
    "\n",
    "# Test the model\n",
    "y_pred = svc.predict(X_test)\n",
    "accuracy = accuracy_score(y_test, y_pred)\n",
    "\n",
    "# Print model performance\n",
    "print(f\"SVC Accuracy: {accuracy}\")\n",
    "\n",
    "# Save the trained model\n",
    "pickle.dump(svc, open('svc.pkl', 'wb'))\n"
   ]
  },
  {
   "cell_type": "code",
   "execution_count": 6,
   "id": "5956961e-be37-4f5f-86a8-f3315a460123",
   "metadata": {},
   "outputs": [],
   "source": [
    "# Load the model for future use\n",
    "svc = pickle.load(open('svc.pkl', 'rb'))\n"
   ]
  },
  {
   "cell_type": "code",
   "execution_count": 7,
   "id": "b314b70f-ac3e-4871-9595-79f0d0341b7c",
   "metadata": {},
   "outputs": [],
   "source": [
    "# Function to predict the disease based on symptoms\n",
    "def get_predicted_value(patient_symptoms):\n",
    "    input_vector = np.zeros(len(symptoms_dict))\n",
    "    for item in patient_symptoms:\n",
    "        if item in symptoms_dict:\n",
    "            input_vector[symptoms_dict[item]] = 1\n",
    "        else:\n",
    "            print(f\"Warning: Symptom '{item}' not found in the dictionary.\")\n",
    "    \n",
    "    # Reshape input_vector as it needs to be 2D for SVC\n",
    "    input_vector = np.array(input_vector).reshape(1, -1)\n",
    "    \n",
    "    prediction_index = svc.predict(input_vector)[0]\n",
    "    return diseases_list[prediction_index]\n"
   ]
  },
  {
   "cell_type": "code",
   "execution_count": 8,
   "id": "904b515a-4805-4d4a-8294-964ae797c447",
   "metadata": {},
   "outputs": [],
   "source": [
    "# Helper function to retrieve details about the predicted disease\n",
    "def helper(dis):\n",
    "    # Disease description\n",
    "    desc = description[description['Disease'] == dis]['Description'].values\n",
    "    desc = \" \".join(desc) if len(desc) > 0 else \"No description available.\"\n",
    "\n",
    "    # Precautions\n",
    "    pre = precautions[precautions['Disease'] == dis][['Precaution_1', 'Precaution_2', 'Precaution_3', 'Precaution_4']].values\n",
    "    pre = pre[0] if len(pre) > 0 else [\"No precautions available.\"]\n",
    "\n",
    "    # Medications\n",
    "    med = medications[medications['Disease'] == dis]['Medication'].values\n",
    "    med = med if len(med) > 0 else [\"No medications available.\"]\n",
    "\n",
    "    # Diet\n",
    "    die = diets[diets['Disease'] == dis]['Diet'].values\n",
    "    die = die if len(die) > 0 else [\"No diet recommendations available.\"]\n",
    "\n",
    "    # Workout\n",
    "    wrkout = workout[workout['disease'] == dis]['workout'].values\n",
    "    wrkout = wrkout if len(wrkout) > 0 else [\"No workout recommendations available.\"]\n",
    "\n",
    "    return desc, pre, med, die, wrkout\n"
   ]
  },
  {
   "cell_type": "code",
   "execution_count": 9,
   "id": "475abc9f-82be-4ca9-bc69-397c2e343782",
   "metadata": {},
   "outputs": [
    {
     "name": "stdin",
     "output_type": "stream",
     "text": [
      "Enter your symptoms (comma-separated):  skin_rash,itching,continuous_sneezing\n"
     ]
    },
    {
     "name": "stdout",
     "output_type": "stream",
     "text": [
      "================= Predicted Disease ==============\n",
      "Fungal infection\n",
      "================= Description ==================\n",
      "Fungal infection is a common skin condition caused by fungi.\n",
      "================= Precautions ==================\n",
      "1. bath twice\n",
      "2. use detol or neem in bathing water\n",
      "3. keep infected area dry\n",
      "4. use clean cloths\n",
      "================= Medications ==================\n",
      "1. ['Antifungal Cream', 'Fluconazole', 'Terbinafine', 'Clotrimazole', 'Ketoconazole']\n",
      "================= Workout ==================\n",
      "1. Avoid sugary foods\n",
      "2. Consume probiotics\n",
      "3. Increase intake of garlic\n",
      "4. Include yogurt in diet\n",
      "5. Limit processed foods\n",
      "6. Stay hydrated\n",
      "7. Consume green tea\n",
      "8. Eat foods rich in zinc\n",
      "9. Include turmeric in diet\n",
      "10. Eat fruits and vegetables\n",
      "================= Diets ==================\n",
      "1. ['Antifungal Diet', 'Probiotics', 'Garlic', 'Coconut oil', 'Turmeric']\n"
     ]
    },
    {
     "name": "stderr",
     "output_type": "stream",
     "text": [
      "C:\\Users\\DELLL\\anaconda3\\Lib\\site-packages\\sklearn\\base.py:439: UserWarning: X does not have valid feature names, but SVC was fitted with feature names\n",
      "  warnings.warn(\n"
     ]
    }
   ],
   "source": [
    "# Test the system by accepting user symptoms and predicting the disease\n",
    "symptoms = input(\"Enter your symptoms (comma-separated): \")\n",
    "user_symptoms = [s.strip() for s in symptoms.split(',')]\n",
    "\n",
    "# Predict the disease\n",
    "predicted_disease = get_predicted_value(user_symptoms)\n",
    "\n",
    "# Get the disease details\n",
    "desc, pre, med, die, wrkout = helper(predicted_disease)\n",
    "\n",
    "# Output results\n",
    "print(\"================= Predicted Disease ==============\")\n",
    "print(predicted_disease)\n",
    "\n",
    "print(\"================= Description ==================\")\n",
    "print(desc)\n",
    "\n",
    "print(\"================= Precautions ==================\")\n",
    "for i, precaution in enumerate(pre, 1):\n",
    "    print(f\"{i}. {precaution}\")\n",
    "\n",
    "print(\"================= Medications ==================\")\n",
    "for i, medication in enumerate(med, 1):\n",
    "    print(f\"{i}. {medication}\")\n",
    "\n",
    "print(\"================= Workout ==================\")\n",
    "for i, workout_recommendation in enumerate(wrkout, 1):\n",
    "    print(f\"{i}. {workout_recommendation}\")\n",
    "\n",
    "print(\"================= Diets ==================\")\n",
    "for i, diet_recommendation in enumerate(die, 1):\n",
    "    print(f\"{i}. {diet_recommendation}\")\n"
   ]
  },
  {
   "cell_type": "code",
   "execution_count": null,
   "id": "fcaea4f5-e949-40d2-80eb-bca3770ddd2c",
   "metadata": {},
   "outputs": [],
   "source": []
  }
 ],
 "metadata": {
  "kernelspec": {
   "display_name": "Python 3 (ipykernel)",
   "language": "python",
   "name": "python3"
  },
  "language_info": {
   "codemirror_mode": {
    "name": "ipython",
    "version": 3
   },
   "file_extension": ".py",
   "mimetype": "text/x-python",
   "name": "python",
   "nbconvert_exporter": "python",
   "pygments_lexer": "ipython3",
   "version": "3.11.7"
  }
 },
 "nbformat": 4,
 "nbformat_minor": 5
}
